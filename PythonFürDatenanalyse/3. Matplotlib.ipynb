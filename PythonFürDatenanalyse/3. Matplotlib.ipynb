{
 "cells": [
  {
   "cell_type": "markdown",
   "metadata": {},
   "source": [
    "# Matplotlib"
   ]
  },
  {
   "cell_type": "markdown",
   "metadata": {},
   "source": [
    "### Matplotlib ist eine frühere Nachbildung von grafischen fähigkeiten vom MatLab in Python"
   ]
  },
  {
   "cell_type": "code",
   "execution_count": 1,
   "metadata": {
    "collapsed": true
   },
   "outputs": [],
   "source": [
    "import matplotlib.pyplot as plt"
   ]
  },
  {
   "cell_type": "code",
   "execution_count": 2,
   "metadata": {
    "collapsed": true
   },
   "outputs": [],
   "source": [
    "%matplotlib inline"
   ]
  },
  {
   "cell_type": "code",
   "execution_count": 3,
   "metadata": {
    "collapsed": true
   },
   "outputs": [],
   "source": [
    "import numpy as np"
   ]
  },
  {
   "cell_type": "code",
   "execution_count": 4,
   "metadata": {
    "collapsed": true
   },
   "outputs": [],
   "source": [
    "iters = 9"
   ]
  },
  {
   "cell_type": "code",
   "execution_count": 5,
   "metadata": {
    "collapsed": true
   },
   "outputs": [],
   "source": [
    "x = np.linspace(-1,1)\n",
    "y = []\n",
    "cnt = 0\n",
    "for k in range(1,iters,2):\n",
    "    cnt += 1\n",
    "    y.append(x**k)"
   ]
  },
  {
   "cell_type": "code",
   "execution_count": 6,
   "metadata": {},
   "outputs": [
    {
     "data": {
      "text/plain": [
       "array([-1.        , -0.95918367, -0.91836735, -0.87755102, -0.83673469,\n",
       "       -0.79591837, -0.75510204, -0.71428571, -0.67346939, -0.63265306,\n",
       "       -0.59183673, -0.55102041, -0.51020408, -0.46938776, -0.42857143,\n",
       "       -0.3877551 , -0.34693878, -0.30612245, -0.26530612, -0.2244898 ,\n",
       "       -0.18367347, -0.14285714, -0.10204082, -0.06122449, -0.02040816,\n",
       "        0.02040816,  0.06122449,  0.10204082,  0.14285714,  0.18367347,\n",
       "        0.2244898 ,  0.26530612,  0.30612245,  0.34693878,  0.3877551 ,\n",
       "        0.42857143,  0.46938776,  0.51020408,  0.55102041,  0.59183673,\n",
       "        0.63265306,  0.67346939,  0.71428571,  0.75510204,  0.79591837,\n",
       "        0.83673469,  0.87755102,  0.91836735,  0.95918367,  1.        ])"
      ]
     },
     "execution_count": 6,
     "metadata": {},
     "output_type": "execute_result"
    }
   ],
   "source": [
    "x"
   ]
  },
  {
   "cell_type": "code",
   "execution_count": 7,
   "metadata": {},
   "outputs": [
    {
     "data": {
      "text/plain": [
       "[array([-1.        , -0.95918367, -0.91836735, -0.87755102, -0.83673469,\n",
       "        -0.79591837, -0.75510204, -0.71428571, -0.67346939, -0.63265306,\n",
       "        -0.59183673, -0.55102041, -0.51020408, -0.46938776, -0.42857143,\n",
       "        -0.3877551 , -0.34693878, -0.30612245, -0.26530612, -0.2244898 ,\n",
       "        -0.18367347, -0.14285714, -0.10204082, -0.06122449, -0.02040816,\n",
       "         0.02040816,  0.06122449,  0.10204082,  0.14285714,  0.18367347,\n",
       "         0.2244898 ,  0.26530612,  0.30612245,  0.34693878,  0.3877551 ,\n",
       "         0.42857143,  0.46938776,  0.51020408,  0.55102041,  0.59183673,\n",
       "         0.63265306,  0.67346939,  0.71428571,  0.75510204,  0.79591837,\n",
       "         0.83673469,  0.87755102,  0.91836735,  0.95918367,  1.        ]),\n",
       " array([ -1.00000000e+00,  -8.82480939e-01,  -7.74549720e-01,\n",
       "         -6.75798349e-01,  -5.85818834e-01,  -5.04203181e-01,\n",
       "         -4.30543396e-01,  -3.64431487e-01,  -3.05459460e-01,\n",
       "         -2.53219322e-01,  -2.07303079e-01,  -1.67302740e-01,\n",
       "         -1.32810309e-01,  -1.03417794e-01,  -7.87172012e-02,\n",
       "         -5.83005380e-02,  -4.17598110e-02,  -2.86870267e-02,\n",
       "         -1.86741919e-02,  -1.13133133e-02,  -6.19639776e-03,\n",
       "         -2.91545190e-03,  -1.06248247e-03,  -2.29496213e-04,\n",
       "         -8.49985975e-06,   8.49985975e-06,   2.29496213e-04,\n",
       "          1.06248247e-03,   2.91545190e-03,   6.19639776e-03,\n",
       "          1.13133133e-02,   1.86741919e-02,   2.86870267e-02,\n",
       "          4.17598110e-02,   5.83005380e-02,   7.87172012e-02,\n",
       "          1.03417794e-01,   1.32810309e-01,   1.67302740e-01,\n",
       "          2.07303079e-01,   2.53219322e-01,   3.05459460e-01,\n",
       "          3.64431487e-01,   4.30543396e-01,   5.04203181e-01,\n",
       "          5.85818834e-01,   6.75798349e-01,   7.74549720e-01,\n",
       "          8.82480939e-01,   1.00000000e+00]),\n",
       " array([ -1.00000000e+00,  -8.11911868e-01,  -6.53254137e-01,\n",
       "         -5.20429466e-01,  -4.10146381e-01,  -3.19405680e-01,\n",
       "         -2.45486843e-01,  -1.85934432e-01,  -1.38544503e-01,\n",
       "         -1.01351007e-01,  -7.26121990e-02,  -5.07970417e-02,\n",
       "         -3.45716130e-02,  -2.27855114e-02,  -1.44582614e-02,\n",
       "         -8.76572021e-03,  -5.02648287e-03,  -2.68828863e-03,\n",
       "         -1.31442667e-03,  -5.70141988e-04,  -2.09041324e-04,\n",
       "         -5.94990183e-05,  -1.10629162e-05,  -8.60252361e-07,\n",
       "         -3.54013317e-09,   3.54013317e-09,   8.60252361e-07,\n",
       "          1.10629162e-05,   5.94990183e-05,   2.09041324e-04,\n",
       "          5.70141988e-04,   1.31442667e-03,   2.68828863e-03,\n",
       "          5.02648287e-03,   8.76572021e-03,   1.44582614e-02,\n",
       "          2.27855114e-02,   3.45716130e-02,   5.07970417e-02,\n",
       "          7.26121990e-02,   1.01351007e-01,   1.38544503e-01,\n",
       "          1.85934432e-01,   2.45486843e-01,   3.19405680e-01,\n",
       "          4.10146381e-01,   5.20429466e-01,   6.53254137e-01,\n",
       "          8.11911868e-01,   1.00000000e+00]),\n",
       " array([ -1.00000000e+00,  -7.46985971e-01,  -5.50953614e-01,\n",
       "         -4.00780543e-01,  -2.87153713e-01,  -2.02339042e-01,\n",
       "         -1.39971465e-01,  -9.48645062e-02,  -6.28383856e-02,\n",
       "         -4.05657301e-02,  -2.54339273e-02,  -1.54231751e-02,\n",
       "         -8.99927453e-03,  -5.02021471e-03,  -2.65559904e-03,\n",
       "         -1.31796126e-03,  -6.05020220e-04,  -2.51922091e-04,\n",
       "         -9.25189949e-05,  -2.87326866e-05,  -7.05220626e-06,\n",
       "         -1.21426568e-06,  -1.15190714e-07,  -3.22460277e-09,\n",
       "         -1.47444114e-12,   1.47444114e-12,   3.22460277e-09,\n",
       "          1.15190714e-07,   1.21426568e-06,   7.05220626e-06,\n",
       "          2.87326866e-05,   9.25189949e-05,   2.51922091e-04,\n",
       "          6.05020220e-04,   1.31796126e-03,   2.65559904e-03,\n",
       "          5.02021471e-03,   8.99927453e-03,   1.54231751e-02,\n",
       "          2.54339273e-02,   4.05657301e-02,   6.28383856e-02,\n",
       "          9.48645062e-02,   1.39971465e-01,   2.02339042e-01,\n",
       "          2.87153713e-01,   4.00780543e-01,   5.50953614e-01,\n",
       "          7.46985971e-01,   1.00000000e+00])]"
      ]
     },
     "execution_count": 7,
     "metadata": {},
     "output_type": "execute_result"
    }
   ],
   "source": [
    "y"
   ]
  },
  {
   "cell_type": "code",
   "execution_count": 9,
   "metadata": {},
   "outputs": [
    {
     "ename": "ValueError",
     "evalue": "x and y must have same first dimension, but have shapes (50,) and (4, 50)",
     "output_type": "error",
     "traceback": [
      "\u001b[1;31m---------------------------------------------------------------------------\u001b[0m",
      "\u001b[1;31mValueError\u001b[0m                                Traceback (most recent call last)",
      "\u001b[1;32m<ipython-input-9-b5aebd320bdb>\u001b[0m in \u001b[0;36m<module>\u001b[1;34m()\u001b[0m\n\u001b[1;32m----> 1\u001b[1;33m \u001b[0mplt\u001b[0m\u001b[1;33m.\u001b[0m\u001b[0mplot\u001b[0m\u001b[1;33m(\u001b[0m\u001b[0mx\u001b[0m\u001b[1;33m,\u001b[0m\u001b[0my\u001b[0m\u001b[1;33m,\u001b[0m\u001b[1;34m'r'\u001b[0m\u001b[1;33m)\u001b[0m\u001b[1;33m\u001b[0m\u001b[0m\n\u001b[0m\u001b[0;32m      2\u001b[0m \u001b[0mplt\u001b[0m\u001b[1;33m.\u001b[0m\u001b[0mxlabel\u001b[0m \u001b[1;33m=\u001b[0m \u001b[1;34m'X Achse'\u001b[0m\u001b[1;33m\u001b[0m\u001b[0m\n\u001b[0;32m      3\u001b[0m \u001b[0mplt\u001b[0m\u001b[1;33m.\u001b[0m\u001b[0mylabel\u001b[0m \u001b[1;33m=\u001b[0m \u001b[1;34m'Y Achse'\u001b[0m\u001b[1;33m\u001b[0m\u001b[0m\n\u001b[0;32m      4\u001b[0m \u001b[0mplt\u001b[0m\u001b[1;33m.\u001b[0m\u001b[0mtitle\u001b[0m \u001b[1;33m=\u001b[0m \u001b[1;34m'X^2 Grafik'\u001b[0m\u001b[1;33m\u001b[0m\u001b[0m\n\u001b[0;32m      5\u001b[0m \u001b[0mplt\u001b[0m\u001b[1;33m.\u001b[0m\u001b[0mshow\u001b[0m\u001b[1;33m(\u001b[0m\u001b[1;33m)\u001b[0m\u001b[1;31m# plt.plot(x,y)\u001b[0m\u001b[1;33m\u001b[0m\u001b[0m\n",
      "\u001b[1;32mC:\\Users\\sglusnev\\AppData\\Local\\Continuum\\Anaconda3\\lib\\site-packages\\matplotlib\\pyplot.py\u001b[0m in \u001b[0;36mplot\u001b[1;34m(*args, **kwargs)\u001b[0m\n\u001b[0;32m   3315\u001b[0m                       mplDeprecation)\n\u001b[0;32m   3316\u001b[0m     \u001b[1;32mtry\u001b[0m\u001b[1;33m:\u001b[0m\u001b[1;33m\u001b[0m\u001b[0m\n\u001b[1;32m-> 3317\u001b[1;33m         \u001b[0mret\u001b[0m \u001b[1;33m=\u001b[0m \u001b[0max\u001b[0m\u001b[1;33m.\u001b[0m\u001b[0mplot\u001b[0m\u001b[1;33m(\u001b[0m\u001b[1;33m*\u001b[0m\u001b[0margs\u001b[0m\u001b[1;33m,\u001b[0m \u001b[1;33m**\u001b[0m\u001b[0mkwargs\u001b[0m\u001b[1;33m)\u001b[0m\u001b[1;33m\u001b[0m\u001b[0m\n\u001b[0m\u001b[0;32m   3318\u001b[0m     \u001b[1;32mfinally\u001b[0m\u001b[1;33m:\u001b[0m\u001b[1;33m\u001b[0m\u001b[0m\n\u001b[0;32m   3319\u001b[0m         \u001b[0max\u001b[0m\u001b[1;33m.\u001b[0m\u001b[0m_hold\u001b[0m \u001b[1;33m=\u001b[0m \u001b[0mwashold\u001b[0m\u001b[1;33m\u001b[0m\u001b[0m\n",
      "\u001b[1;32mC:\\Users\\sglusnev\\AppData\\Local\\Continuum\\Anaconda3\\lib\\site-packages\\matplotlib\\__init__.py\u001b[0m in \u001b[0;36minner\u001b[1;34m(ax, *args, **kwargs)\u001b[0m\n\u001b[0;32m   1895\u001b[0m                     warnings.warn(msg % (label_namer, func.__name__),\n\u001b[0;32m   1896\u001b[0m                                   RuntimeWarning, stacklevel=2)\n\u001b[1;32m-> 1897\u001b[1;33m             \u001b[1;32mreturn\u001b[0m \u001b[0mfunc\u001b[0m\u001b[1;33m(\u001b[0m\u001b[0max\u001b[0m\u001b[1;33m,\u001b[0m \u001b[1;33m*\u001b[0m\u001b[0margs\u001b[0m\u001b[1;33m,\u001b[0m \u001b[1;33m**\u001b[0m\u001b[0mkwargs\u001b[0m\u001b[1;33m)\u001b[0m\u001b[1;33m\u001b[0m\u001b[0m\n\u001b[0m\u001b[0;32m   1898\u001b[0m         \u001b[0mpre_doc\u001b[0m \u001b[1;33m=\u001b[0m \u001b[0minner\u001b[0m\u001b[1;33m.\u001b[0m\u001b[0m__doc__\u001b[0m\u001b[1;33m\u001b[0m\u001b[0m\n\u001b[0;32m   1899\u001b[0m         \u001b[1;32mif\u001b[0m \u001b[0mpre_doc\u001b[0m \u001b[1;32mis\u001b[0m \u001b[1;32mNone\u001b[0m\u001b[1;33m:\u001b[0m\u001b[1;33m\u001b[0m\u001b[0m\n",
      "\u001b[1;32mC:\\Users\\sglusnev\\AppData\\Local\\Continuum\\Anaconda3\\lib\\site-packages\\matplotlib\\axes\\_axes.py\u001b[0m in \u001b[0;36mplot\u001b[1;34m(self, *args, **kwargs)\u001b[0m\n\u001b[0;32m   1404\u001b[0m         \u001b[0mkwargs\u001b[0m \u001b[1;33m=\u001b[0m \u001b[0mcbook\u001b[0m\u001b[1;33m.\u001b[0m\u001b[0mnormalize_kwargs\u001b[0m\u001b[1;33m(\u001b[0m\u001b[0mkwargs\u001b[0m\u001b[1;33m,\u001b[0m \u001b[0m_alias_map\u001b[0m\u001b[1;33m)\u001b[0m\u001b[1;33m\u001b[0m\u001b[0m\n\u001b[0;32m   1405\u001b[0m \u001b[1;33m\u001b[0m\u001b[0m\n\u001b[1;32m-> 1406\u001b[1;33m         \u001b[1;32mfor\u001b[0m \u001b[0mline\u001b[0m \u001b[1;32min\u001b[0m \u001b[0mself\u001b[0m\u001b[1;33m.\u001b[0m\u001b[0m_get_lines\u001b[0m\u001b[1;33m(\u001b[0m\u001b[1;33m*\u001b[0m\u001b[0margs\u001b[0m\u001b[1;33m,\u001b[0m \u001b[1;33m**\u001b[0m\u001b[0mkwargs\u001b[0m\u001b[1;33m)\u001b[0m\u001b[1;33m:\u001b[0m\u001b[1;33m\u001b[0m\u001b[0m\n\u001b[0m\u001b[0;32m   1407\u001b[0m             \u001b[0mself\u001b[0m\u001b[1;33m.\u001b[0m\u001b[0madd_line\u001b[0m\u001b[1;33m(\u001b[0m\u001b[0mline\u001b[0m\u001b[1;33m)\u001b[0m\u001b[1;33m\u001b[0m\u001b[0m\n\u001b[0;32m   1408\u001b[0m             \u001b[0mlines\u001b[0m\u001b[1;33m.\u001b[0m\u001b[0mappend\u001b[0m\u001b[1;33m(\u001b[0m\u001b[0mline\u001b[0m\u001b[1;33m)\u001b[0m\u001b[1;33m\u001b[0m\u001b[0m\n",
      "\u001b[1;32mC:\\Users\\sglusnev\\AppData\\Local\\Continuum\\Anaconda3\\lib\\site-packages\\matplotlib\\axes\\_base.py\u001b[0m in \u001b[0;36m_grab_next_args\u001b[1;34m(self, *args, **kwargs)\u001b[0m\n\u001b[0;32m    405\u001b[0m                 \u001b[1;32mreturn\u001b[0m\u001b[1;33m\u001b[0m\u001b[0m\n\u001b[0;32m    406\u001b[0m             \u001b[1;32mif\u001b[0m \u001b[0mlen\u001b[0m\u001b[1;33m(\u001b[0m\u001b[0mremaining\u001b[0m\u001b[1;33m)\u001b[0m \u001b[1;33m<=\u001b[0m \u001b[1;36m3\u001b[0m\u001b[1;33m:\u001b[0m\u001b[1;33m\u001b[0m\u001b[0m\n\u001b[1;32m--> 407\u001b[1;33m                 \u001b[1;32mfor\u001b[0m \u001b[0mseg\u001b[0m \u001b[1;32min\u001b[0m \u001b[0mself\u001b[0m\u001b[1;33m.\u001b[0m\u001b[0m_plot_args\u001b[0m\u001b[1;33m(\u001b[0m\u001b[0mremaining\u001b[0m\u001b[1;33m,\u001b[0m \u001b[0mkwargs\u001b[0m\u001b[1;33m)\u001b[0m\u001b[1;33m:\u001b[0m\u001b[1;33m\u001b[0m\u001b[0m\n\u001b[0m\u001b[0;32m    408\u001b[0m                     \u001b[1;32myield\u001b[0m \u001b[0mseg\u001b[0m\u001b[1;33m\u001b[0m\u001b[0m\n\u001b[0;32m    409\u001b[0m                 \u001b[1;32mreturn\u001b[0m\u001b[1;33m\u001b[0m\u001b[0m\n",
      "\u001b[1;32mC:\\Users\\sglusnev\\AppData\\Local\\Continuum\\Anaconda3\\lib\\site-packages\\matplotlib\\axes\\_base.py\u001b[0m in \u001b[0;36m_plot_args\u001b[1;34m(self, tup, kwargs)\u001b[0m\n\u001b[0;32m    383\u001b[0m             \u001b[0mx\u001b[0m\u001b[1;33m,\u001b[0m \u001b[0my\u001b[0m \u001b[1;33m=\u001b[0m \u001b[0mindex_of\u001b[0m\u001b[1;33m(\u001b[0m\u001b[0mtup\u001b[0m\u001b[1;33m[\u001b[0m\u001b[1;33m-\u001b[0m\u001b[1;36m1\u001b[0m\u001b[1;33m]\u001b[0m\u001b[1;33m)\u001b[0m\u001b[1;33m\u001b[0m\u001b[0m\n\u001b[0;32m    384\u001b[0m \u001b[1;33m\u001b[0m\u001b[0m\n\u001b[1;32m--> 385\u001b[1;33m         \u001b[0mx\u001b[0m\u001b[1;33m,\u001b[0m \u001b[0my\u001b[0m \u001b[1;33m=\u001b[0m \u001b[0mself\u001b[0m\u001b[1;33m.\u001b[0m\u001b[0m_xy_from_xy\u001b[0m\u001b[1;33m(\u001b[0m\u001b[0mx\u001b[0m\u001b[1;33m,\u001b[0m \u001b[0my\u001b[0m\u001b[1;33m)\u001b[0m\u001b[1;33m\u001b[0m\u001b[0m\n\u001b[0m\u001b[0;32m    386\u001b[0m \u001b[1;33m\u001b[0m\u001b[0m\n\u001b[0;32m    387\u001b[0m         \u001b[1;32mif\u001b[0m \u001b[0mself\u001b[0m\u001b[1;33m.\u001b[0m\u001b[0mcommand\u001b[0m \u001b[1;33m==\u001b[0m \u001b[1;34m'plot'\u001b[0m\u001b[1;33m:\u001b[0m\u001b[1;33m\u001b[0m\u001b[0m\n",
      "\u001b[1;32mC:\\Users\\sglusnev\\AppData\\Local\\Continuum\\Anaconda3\\lib\\site-packages\\matplotlib\\axes\\_base.py\u001b[0m in \u001b[0;36m_xy_from_xy\u001b[1;34m(self, x, y)\u001b[0m\n\u001b[0;32m    242\u001b[0m         \u001b[1;32mif\u001b[0m \u001b[0mx\u001b[0m\u001b[1;33m.\u001b[0m\u001b[0mshape\u001b[0m\u001b[1;33m[\u001b[0m\u001b[1;36m0\u001b[0m\u001b[1;33m]\u001b[0m \u001b[1;33m!=\u001b[0m \u001b[0my\u001b[0m\u001b[1;33m.\u001b[0m\u001b[0mshape\u001b[0m\u001b[1;33m[\u001b[0m\u001b[1;36m0\u001b[0m\u001b[1;33m]\u001b[0m\u001b[1;33m:\u001b[0m\u001b[1;33m\u001b[0m\u001b[0m\n\u001b[0;32m    243\u001b[0m             raise ValueError(\"x and y must have same first dimension, but \"\n\u001b[1;32m--> 244\u001b[1;33m                              \"have shapes {} and {}\".format(x.shape, y.shape))\n\u001b[0m\u001b[0;32m    245\u001b[0m         \u001b[1;32mif\u001b[0m \u001b[0mx\u001b[0m\u001b[1;33m.\u001b[0m\u001b[0mndim\u001b[0m \u001b[1;33m>\u001b[0m \u001b[1;36m2\u001b[0m \u001b[1;32mor\u001b[0m \u001b[0my\u001b[0m\u001b[1;33m.\u001b[0m\u001b[0mndim\u001b[0m \u001b[1;33m>\u001b[0m \u001b[1;36m2\u001b[0m\u001b[1;33m:\u001b[0m\u001b[1;33m\u001b[0m\u001b[0m\n\u001b[0;32m    246\u001b[0m             raise ValueError(\"x and y can be no greater than 2-D, but have \"\n",
      "\u001b[1;31mValueError\u001b[0m: x and y must have same first dimension, but have shapes (50,) and (4, 50)"
     ]
    },
    {
     "data": {
      "image/png": "[encoded data removed]",
      "text/plain": [
       "<matplotlib.figure.Figure at 0x1e421f40550>"
      ]
     },
     "metadata": {},
     "output_type": "display_data"
    }
   ],
   "source": [
    "#plt.plot(x,y,'r')\n",
    "#plt.xlabel = 'X Achse'\n",
    "#plt.ylabel = 'Y Achse'\n",
    "#plt.title = 'X^2 Grafik'\n",
    "#plt.show()# plt.plot(x,y)"
   ]
  },
  {
   "cell_type": "code",
   "execution_count": 10,
   "metadata": {},
   "outputs": [
    {
     "data": {
      "image/png": "[encoded data removed]",
      "text/plain": [
       "<matplotlib.figure.Figure at 0x1e422400780>"
      ]
     },
     "metadata": {},
     "output_type": "display_data"
    }
   ],
   "source": [
    "#for k in range(1,cnt)\n",
    "plt.plot(x, x**2)\n",
    "\n",
    "plt.xlabel('X Axis Title Here')\n",
    "plt.ylabel('Y Axis Title Here')\n",
    "plt.title('x^n Diagram ist hier')\n",
    "plt.show()"
   ]
  }
 ],
 "metadata": {
  "kernelspec": {
   "display_name": "Python 3",
   "language": "python",
   "name": "python3"
  },
  "language_info": {
   "codemirror_mode": {
    "name": "ipython",
    "version": 3
   },
   "file_extension": ".py",
   "mimetype": "text/x-python",
   "name": "python",
   "nbconvert_exporter": "python",
   "pygments_lexer": "ipython3",
   "version": "3.6.1"
  }
 },
 "nbformat": 4,
 "nbformat_minor": 2
}
