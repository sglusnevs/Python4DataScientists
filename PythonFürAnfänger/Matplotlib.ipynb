{
 "cells": [
  {
   "cell_type": "markdown",
   "metadata": {},
   "source": [
    "# Matplotlib"
   ]
  },
  {
   "cell_type": "markdown",
   "metadata": {},
   "source": [
    "Matplotlib ist eine frühere Nachbildung von MatLab grafischen fähigkeiten in Python"
   ]
  },
  {
   "cell_type": "code",
   "execution_count": 1,
   "metadata": {
    "collapsed": true
   },
   "outputs": [],
   "source": [
    "import matplotlib.pyplot as plt"
   ]
  },
  {
   "cell_type": "code",
   "execution_count": 2,
   "metadata": {
    "collapsed": true
   },
   "outputs": [],
   "source": [
    "%matplotlib inline"
   ]
  },
  {
   "cell_type": "code",
   "execution_count": 21,
   "metadata": {
    "collapsed": true
   },
   "outputs": [],
   "source": [
    "import numpy as np"
   ]
  },
  {
   "cell_type": "code",
   "execution_count": 33,
   "metadata": {
    "collapsed": true
   },
   "outputs": [],
   "source": [
    "iters = 9"
   ]
  },
  {
   "cell_type": "code",
   "execution_count": 46,
   "metadata": {},
   "outputs": [],
   "source": [
    "x = np.linspace(-1,1)\n",
    "y = []\n",
    "cnt = 0\n",
    "for k in range(1,iters,2):\n",
    "    cnt += 1\n",
    "    y.append(x**k)\n"
   ]
  },
  {
   "cell_type": "code",
   "execution_count": 41,
   "metadata": {},
   "outputs": [
    {
     "data": {
      "text/plain": [
       "array([-1.        , -0.95918367, -0.91836735, -0.87755102, -0.83673469,\n",
       "       -0.79591837, -0.75510204, -0.71428571, -0.67346939, -0.63265306,\n",
       "       -0.59183673, -0.55102041, -0.51020408, -0.46938776, -0.42857143,\n",
       "       -0.3877551 , -0.34693878, -0.30612245, -0.26530612, -0.2244898 ,\n",
       "       -0.18367347, -0.14285714, -0.10204082, -0.06122449, -0.02040816,\n",
       "        0.02040816,  0.06122449,  0.10204082,  0.14285714,  0.18367347,\n",
       "        0.2244898 ,  0.26530612,  0.30612245,  0.34693878,  0.3877551 ,\n",
       "        0.42857143,  0.46938776,  0.51020408,  0.55102041,  0.59183673,\n",
       "        0.63265306,  0.67346939,  0.71428571,  0.75510204,  0.79591837,\n",
       "        0.83673469,  0.87755102,  0.91836735,  0.95918367,  1.        ])"
      ]
     },
     "execution_count": 41,
     "metadata": {},
     "output_type": "execute_result"
    }
   ],
   "source": [
    "x"
   ]
  },
  {
   "cell_type": "code",
   "execution_count": 42,
   "metadata": {},
   "outputs": [
    {
     "data": {
      "text/plain": [
       "[array([-1.        , -0.95918367, -0.91836735, -0.87755102, -0.83673469,\n",
       "        -0.79591837, -0.75510204, -0.71428571, -0.67346939, -0.63265306,\n",
       "        -0.59183673, -0.55102041, -0.51020408, -0.46938776, -0.42857143,\n",
       "        -0.3877551 , -0.34693878, -0.30612245, -0.26530612, -0.2244898 ,\n",
       "        -0.18367347, -0.14285714, -0.10204082, -0.06122449, -0.02040816,\n",
       "         0.02040816,  0.06122449,  0.10204082,  0.14285714,  0.18367347,\n",
       "         0.2244898 ,  0.26530612,  0.30612245,  0.34693878,  0.3877551 ,\n",
       "         0.42857143,  0.46938776,  0.51020408,  0.55102041,  0.59183673,\n",
       "         0.63265306,  0.67346939,  0.71428571,  0.75510204,  0.79591837,\n",
       "         0.83673469,  0.87755102,  0.91836735,  0.95918367,  1.        ]),\n",
       " array([ -1.00000000e+00,  -8.82480939e-01,  -7.74549720e-01,\n",
       "         -6.75798349e-01,  -5.85818834e-01,  -5.04203181e-01,\n",
       "         -4.30543396e-01,  -3.64431487e-01,  -3.05459460e-01,\n",
       "         -2.53219322e-01,  -2.07303079e-01,  -1.67302740e-01,\n",
       "         -1.32810309e-01,  -1.03417794e-01,  -7.87172012e-02,\n",
       "         -5.83005380e-02,  -4.17598110e-02,  -2.86870267e-02,\n",
       "         -1.86741919e-02,  -1.13133133e-02,  -6.19639776e-03,\n",
       "         -2.91545190e-03,  -1.06248247e-03,  -2.29496213e-04,\n",
       "         -8.49985975e-06,   8.49985975e-06,   2.29496213e-04,\n",
       "          1.06248247e-03,   2.91545190e-03,   6.19639776e-03,\n",
       "          1.13133133e-02,   1.86741919e-02,   2.86870267e-02,\n",
       "          4.17598110e-02,   5.83005380e-02,   7.87172012e-02,\n",
       "          1.03417794e-01,   1.32810309e-01,   1.67302740e-01,\n",
       "          2.07303079e-01,   2.53219322e-01,   3.05459460e-01,\n",
       "          3.64431487e-01,   4.30543396e-01,   5.04203181e-01,\n",
       "          5.85818834e-01,   6.75798349e-01,   7.74549720e-01,\n",
       "          8.82480939e-01,   1.00000000e+00]),\n",
       " array([ -1.00000000e+00,  -8.11911868e-01,  -6.53254137e-01,\n",
       "         -5.20429466e-01,  -4.10146381e-01,  -3.19405680e-01,\n",
       "         -2.45486843e-01,  -1.85934432e-01,  -1.38544503e-01,\n",
       "         -1.01351007e-01,  -7.26121990e-02,  -5.07970417e-02,\n",
       "         -3.45716130e-02,  -2.27855114e-02,  -1.44582614e-02,\n",
       "         -8.76572021e-03,  -5.02648287e-03,  -2.68828863e-03,\n",
       "         -1.31442667e-03,  -5.70141988e-04,  -2.09041324e-04,\n",
       "         -5.94990183e-05,  -1.10629162e-05,  -8.60252361e-07,\n",
       "         -3.54013317e-09,   3.54013317e-09,   8.60252361e-07,\n",
       "          1.10629162e-05,   5.94990183e-05,   2.09041324e-04,\n",
       "          5.70141988e-04,   1.31442667e-03,   2.68828863e-03,\n",
       "          5.02648287e-03,   8.76572021e-03,   1.44582614e-02,\n",
       "          2.27855114e-02,   3.45716130e-02,   5.07970417e-02,\n",
       "          7.26121990e-02,   1.01351007e-01,   1.38544503e-01,\n",
       "          1.85934432e-01,   2.45486843e-01,   3.19405680e-01,\n",
       "          4.10146381e-01,   5.20429466e-01,   6.53254137e-01,\n",
       "          8.11911868e-01,   1.00000000e+00]),\n",
       " array([ -1.00000000e+00,  -7.46985971e-01,  -5.50953614e-01,\n",
       "         -4.00780543e-01,  -2.87153713e-01,  -2.02339042e-01,\n",
       "         -1.39971465e-01,  -9.48645062e-02,  -6.28383856e-02,\n",
       "         -4.05657301e-02,  -2.54339273e-02,  -1.54231751e-02,\n",
       "         -8.99927453e-03,  -5.02021471e-03,  -2.65559904e-03,\n",
       "         -1.31796126e-03,  -6.05020220e-04,  -2.51922091e-04,\n",
       "         -9.25189949e-05,  -2.87326866e-05,  -7.05220626e-06,\n",
       "         -1.21426568e-06,  -1.15190714e-07,  -3.22460277e-09,\n",
       "         -1.47444114e-12,   1.47444114e-12,   3.22460277e-09,\n",
       "          1.15190714e-07,   1.21426568e-06,   7.05220626e-06,\n",
       "          2.87326866e-05,   9.25189949e-05,   2.51922091e-04,\n",
       "          6.05020220e-04,   1.31796126e-03,   2.65559904e-03,\n",
       "          5.02021471e-03,   8.99927453e-03,   1.54231751e-02,\n",
       "          2.54339273e-02,   4.05657301e-02,   6.28383856e-02,\n",
       "          9.48645062e-02,   1.39971465e-01,   2.02339042e-01,\n",
       "          2.87153713e-01,   4.00780543e-01,   5.50953614e-01,\n",
       "          7.46985971e-01,   1.00000000e+00])]"
      ]
     },
     "execution_count": 42,
     "metadata": {},
     "output_type": "execute_result"
    }
   ],
   "source": [
    "y"
   ]
  },
  {
   "cell_type": "code",
   "execution_count": null,
   "metadata": {},
   "outputs": [],
   "source": [
    "#plt.plot(x,y,'r')\n",
    "#plt.xlabel = 'X Achse'\n",
    "#plt.ylabel = 'Y Achse'\n",
    "#plt.title = 'X^2 Grafik'\n",
    "#plt.show()# plt.plot(x,y)"
   ]
  },
  {
   "cell_type": "code",
   "execution_count": 50,
   "metadata": {},
   "outputs": [
    {
     "data": {
      "image/png": "[encoded data removed]",
      "text/plain": [
       "<matplotlib.figure.Figure at 0x22932d8ef60>"
      ]
     },
     "metadata": {},
     "output_type": "display_data"
    }
   ],
   "source": [
    "for k in range(1,cnt):\n",
    "    plt.plot(x, y[k])\n",
    "\n",
    "plt.xlabel('X Axis Title Here')\n",
    "plt.ylabel('Y Axis Title Here')\n",
    "plt.title('x^n Diagram ist hier')\n",
    "plt.show()"
   ]
  },
  {
   "cell_type": "code",
   "execution_count": null,
   "metadata": {
    "collapsed": true
   },
   "outputs": [],
   "source": []
  }
 ],
 "metadata": {
  "kernelspec": {
   "display_name": "Python 3",
   "language": "python",
   "name": "python3"
  },
  "language_info": {
   "codemirror_mode": {
    "name": "ipython",
    "version": 3
   },
   "file_extension": ".py",
   "mimetype": "text/x-python",
   "name": "python",
   "nbconvert_exporter": "python",
   "pygments_lexer": "ipython3",
   "version": "3.6.1"
  }
 },
 "nbformat": 4,
 "nbformat_minor": 2
}
