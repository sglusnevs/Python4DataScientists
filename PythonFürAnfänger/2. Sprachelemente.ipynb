{
 "cells": [
  {
   "cell_type": "markdown",
   "metadata": {},
   "source": [
    "# Sprachelemente vom Python"
   ]
  },
  {
   "cell_type": "markdown",
   "metadata": {},
   "source": [
    "* Bedingte Anweisungen\n",
    "    * Vergleich von Zahlen\n",
    "    * Vergleich von Strings\n",
    "    * Vergleich von Zahlen und Strings gemischt\n",
    "    * None\n",
    "* print()\n",
    "* Schleifen\n",
    "  * Break\n",
    "  * Continue\n",
    "* Funktionen\n",
    "* List Comprehensions\n",
    "* Lambda Funktionen\n",
    "* Map, Filter, Reduce\n",
    "* Module\n",
    "* Exceptions"
   ]
  },
  {
   "cell_type": "markdown",
   "metadata": {},
   "source": [
    "# Bedingte Anweisungen"
   ]
  },
  {
   "cell_type": "markdown",
   "metadata": {},
   "source": [
    "### Zahlen"
   ]
  },
  {
   "cell_type": "code",
   "execution_count": null,
   "metadata": {
    "collapsed": true
   },
   "outputs": [],
   "source": [
    "a = 1\n",
    "b = 1\n",
    "if a == b:\n",
    "    print (\"a == b\")\n",
    "elif a > b:\n",
    "    print(\"a > b\")\n",
    "elif a < b:\n",
    "    print(\"a < b\")\n",
    "else:\n",
    "    print(\"Das darf nie vorkommen!\")"
   ]
  },
  {
   "cell_type": "markdown",
   "metadata": {},
   "source": [
    "### Strings"
   ]
  },
  {
   "cell_type": "code",
   "execution_count": null,
   "metadata": {
    "collapsed": true
   },
   "outputs": [],
   "source": [
    "a = 'a'\n",
    "b = 'b'\n",
    "if a == b:\n",
    "    print (\"a == b\")\n",
    "elif a > b:\n",
    "    print(\"a > b\")\n",
    "elif a < b:\n",
    "    print(\"a < b\")\n",
    "else:\n",
    "    print(\"Das darf nie vorkommen!\")"
   ]
  },
  {
   "cell_type": "markdown",
   "metadata": {},
   "source": [
    "### Gemischt"
   ]
  },
  {
   "cell_type": "code",
   "execution_count": null,
   "metadata": {
    "collapsed": true
   },
   "outputs": [],
   "source": [
    "a = '1'\n",
    "b = 1\n",
    "if a == b:\n",
    "    print (\"a == b\")\n",
    "else:\n",
    "    print(\"a != b\")"
   ]
  },
  {
   "cell_type": "markdown",
   "metadata": {},
   "source": [
    "True / False in Bedingten Anweisungen"
   ]
  },
  {
   "cell_type": "code",
   "execution_count": null,
   "metadata": {
    "collapsed": true
   },
   "outputs": [],
   "source": [
    "# Bitte nicht so!\n",
    "flag = True\n",
    "if flag == True:\n",
    "    print (\"Flas is set!\")"
   ]
  },
  {
   "cell_type": "markdown",
   "metadata": {},
   "source": [
    "### None"
   ]
  },
  {
   "cell_type": "code",
   "execution_count": null,
   "metadata": {
    "collapsed": true
   },
   "outputs": [],
   "source": [
    "a = None\n",
    "\n",
    "if a is None:\n",
    "    print (\"a ist None\")\n",
    "else:\n",
    "    print(\"a ist nicht None\")"
   ]
  },
  {
   "cell_type": "markdown",
   "metadata": {},
   "source": [
    "# print()"
   ]
  },
  {
   "cell_type": "code",
   "execution_count": null,
   "metadata": {
    "collapsed": true
   },
   "outputs": [],
   "source": [
    "a = 1\n",
    "b = 'hello'\n",
    "c = 12.1345\n",
    "print ('This is classical Python-Style %%-output: \"%d, %s, %f\"' % (a, b, c))"
   ]
  },
  {
   "cell_type": "code",
   "execution_count": null,
   "metadata": {
    "collapsed": true
   },
   "outputs": [],
   "source": [
    "print ('Das ist also möglich:', a, b, c)"
   ]
  },
  {
   "cell_type": "code",
   "execution_count": null,
   "metadata": {
    "collapsed": true
   },
   "outputs": [],
   "source": [
    "print ('Oder auch so: ' + str(a) + b + str(c))"
   ]
  },
  {
   "cell_type": "code",
   "execution_count": null,
   "metadata": {
    "collapsed": true
   },
   "outputs": [],
   "source": [
    "print (\"Das ist aber Python-3 Dot-format-Style: {}, {}, {}\" . format(a, b, c))"
   ]
  },
  {
   "cell_type": "markdown",
   "metadata": {},
   "source": [
    "\n",
    "### Übung: erstelle eine Reihe von bedingten Anweisungen, die die Höhe vom Straffzettel ermitteln\n",
    "\n",
    "a = G'schwindigkeit erlaubt\n",
    "b = G'schwindigkeit ermitteln\n",
    "\n",
    "Ausgabe: String mit dem Sanktion\n",
    "\n",
    "<table class=\"tabelle\" style=\"float: left\">\n",
    "\t<thead>\n",
    "\t</thead>\n",
    "\t<tbody>\n",
    "\t\t<tr>\n",
    "\t\t\t<th>Geschwindigkeits&uuml;berschreitung Autobahn</th>\n",
    "\t\t\t<th>Sanktionen laut Bu&szlig;geldkatalog Schweiz</th>\n",
    "\t\t</tr>\n",
    "\t\t<tr>\n",
    "\t\t\t<td>Keine Überschreitung</td>\n",
    "\t\t\t<td>Alles Ok!</td>\n",
    "\t\t</tr>        \n",
    "\t\t<tr>\n",
    "\t\t\t<td>1-5 km/h</td>\n",
    "\t\t\t<td>20 CHF (etwa 20 Euro)</td>\n",
    "\t\t</tr>\n",
    "\t\t<tr>\n",
    "\t\t\t<td>6-10 km/h</td>\n",
    "\t\t\t<td>60 CHF (etwa 60 Euro)</td>\n",
    "\t\t</tr>\n",
    "\t\t<tr>\n",
    "\t\t\t<td>11-15 km/h</td>\n",
    "\t\t\t<td>120 CHF (etw 120 Euro)</td>\n",
    "\t\t</tr>\n",
    "\t\t<tr>\n",
    "\t\t\t<td>16-20 km/h</td>\n",
    "\t\t\t<td>180 CHF (etwa 180 Euro)</td>\n",
    "\t\t</tr>\n",
    "        <tr>\n",
    "\t\t\t<td>&gt; 20 km/h</td>\n",
    "\t\t\t<td>Du bist arm geworden!</td>\n",
    "\t\t</tr>\n",
    "\t</tbody>\n",
    "</table>\n"
   ]
  },
  {
   "cell_type": "code",
   "execution_count": 2,
   "metadata": {
    "collapsed": true
   },
   "outputs": [],
   "source": [
    "# hier kommt die Lösung!"
   ]
  },
  {
   "cell_type": "markdown",
   "metadata": {
    "collapsed": true
   },
   "source": [
    "# Schleifen"
   ]
  },
  {
   "cell_type": "code",
   "execution_count": null,
   "metadata": {
    "collapsed": true
   },
   "outputs": [],
   "source": [
    "for n in range(10):\n",
    "    print (n)"
   ]
  },
  {
   "cell_type": "code",
   "execution_count": null,
   "metadata": {
    "collapsed": true
   },
   "outputs": [],
   "source": [
    "for n in range(3):\n",
    "    for k in range(3):\n",
    "        print (n,k)\n",
    "        "
   ]
  },
  {
   "cell_type": "code",
   "execution_count": null,
   "metadata": {
    "collapsed": true
   },
   "outputs": [],
   "source": [
    "n = 0\n",
    "while n < 10:\n",
    "    print (n)\n",
    "    n += 1"
   ]
  },
  {
   "cell_type": "markdown",
   "metadata": {},
   "source": [
    "### Break und Continue"
   ]
  },
  {
   "cell_type": "code",
   "execution_count": null,
   "metadata": {
    "collapsed": true
   },
   "outputs": [],
   "source": [
    "import random\n",
    "while True:\n",
    "    z = random.randint(0,100)\n",
    "    if z > 90:\n",
    "        break\n",
    "        \n",
    "print (z)"
   ]
  },
  {
   "cell_type": "markdown",
   "metadata": {},
   "source": [
    "# Funktionen"
   ]
  },
  {
   "cell_type": "markdown",
   "metadata": {},
   "source": [
    "Funktion ist eine _Benannte_ Reihe von Sprachelementen, die mehrmals aufgerufen werden kann"
   ]
  },
  {
   "cell_type": "code",
   "execution_count": null,
   "metadata": {
    "collapsed": true
   },
   "outputs": [],
   "source": [
    "def MyFirstFunction():\n",
    "    print (\"ok\")\n",
    "    \n",
    "MyFirstFunction()"
   ]
  },
  {
   "cell_type": "markdown",
   "metadata": {},
   "source": [
    "Funktion kann einen oder mehreren Argumenten als Input-Parameter akzeptieren"
   ]
  },
  {
   "cell_type": "code",
   "execution_count": null,
   "metadata": {
    "collapsed": true
   },
   "outputs": [],
   "source": [
    "def MySecondFunction(myArg):\n",
    "    return myArg ** 2\n",
    "\n",
    "MySecondFunction(4)"
   ]
  },
  {
   "cell_type": "markdown",
   "metadata": {},
   "source": [
    "Funktionen sollen möglichst sinnvoll benannt werden"
   ]
  },
  {
   "cell_type": "code",
   "execution_count": null,
   "metadata": {
    "collapsed": true
   },
   "outputs": [],
   "source": [
    "def sqr(num):\n",
    "    return num**2\n",
    "\n",
    "print (sqr(16))"
   ]
  },
  {
   "cell_type": "markdown",
   "metadata": {},
   "source": [
    "Funktionen können mehr als ein Ergebnis zurückliefern"
   ]
  },
  {
   "cell_type": "code",
   "execution_count": null,
   "metadata": {
    "collapsed": true
   },
   "outputs": [],
   "source": [
    "def swap(x, y):\n",
    "    return y, x\n",
    "\n",
    "a, b = swap(1, 2)\n",
    "a, b"
   ]
  },
  {
   "cell_type": "markdown",
   "metadata": {},
   "source": [
    "Funktionen können benannte Argumente anehmen"
   ]
  },
  {
   "cell_type": "code",
   "execution_count": null,
   "metadata": {
    "collapsed": true
   },
   "outputs": [],
   "source": [
    "swap(y = 1, x = 2)"
   ]
  },
  {
   "cell_type": "markdown",
   "metadata": {},
   "source": [
    "Funktionen können default-Argumente annehmen"
   ]
  },
  {
   "cell_type": "code",
   "execution_count": null,
   "metadata": {
    "collapsed": true
   },
   "outputs": [],
   "source": [
    "def frange(start, stop, step = 1):\n",
    "    return list(range(start, stop + 1, step))\n",
    "\n",
    "frange(1, 10)"
   ]
  },
  {
   "cell_type": "markdown",
   "metadata": {},
   "source": [
    "Funktionen können variable anzahl von Argumenten annehmen"
   ]
  },
  {
   "cell_type": "code",
   "execution_count": null,
   "metadata": {
    "collapsed": true
   },
   "outputs": [],
   "source": [
    "def dashconcat(*args):\n",
    "    return '-'.join(args)\n",
    "\n",
    "concat ('a', 'b', 'c')"
   ]
  },
  {
   "cell_type": "markdown",
   "metadata": {},
   "source": [
    "...und variable Anzahl von benannten Argumenten"
   ]
  },
  {
   "cell_type": "code",
   "execution_count": null,
   "metadata": {
    "collapsed": true
   },
   "outputs": [],
   "source": [
    "def dashconcat(**args):\n",
    "    return args['dash'].join(args['list'])\n",
    "\n",
    "dashconcat(dash = '-', list = list('abcde'))"
   ]
  },
  {
   "cell_type": "markdown",
   "metadata": {},
   "source": [
    "Funktionen in Python sind selbe Variablen und können selbe als argumente für die anderen Funktionen dienen"
   ]
  },
  {
   "cell_type": "code",
   "execution_count": null,
   "metadata": {
    "collapsed": true
   },
   "outputs": [],
   "source": [
    "def powTwo(fn):\n",
    "    return fn() ** 2\n",
    "\n",
    "def duo():\n",
    "    return 2\n",
    "\n",
    "def quattro():\n",
    "    return 4\n",
    "\n",
    "powTwo(duo)"
   ]
  },
  {
   "cell_type": "markdown",
   "metadata": {},
   "source": [
    "Funktionen können (und sollen) dokumentiert werden"
   ]
  },
  {
   "cell_type": "code",
   "execution_count": null,
   "metadata": {
    "collapsed": true
   },
   "outputs": [],
   "source": [
    "def hello():\n",
    "    \"\"\"This is a Hallo funktion\"\"\"\n",
    "    return 'hallo!'"
   ]
  },
  {
   "cell_type": "code",
   "execution_count": null,
   "metadata": {
    "collapsed": true
   },
   "outputs": [],
   "source": [
    "hello()"
   ]
  },
  {
   "cell_type": "code",
   "execution_count": null,
   "metadata": {
    "collapsed": true
   },
   "outputs": [],
   "source": [
    "help(hello)"
   ]
  },
  {
   "cell_type": "markdown",
   "metadata": {},
   "source": [
    "### Übung: eine Funtion erstellen, die als Input-Parameter ein String akzeptiert, und als Ausgabe ein Dictionary mit den Anzahl von Wörter ausgibt.\n",
    "\n",
    "    Input: 'DL NG DL DN HA DN HA DN'\n",
    "    Output: {'DN': 2, 'DL': 2, 'NG': 1, 'HA': 2}\n",
    "    \n",
    "Bemerkung: Riehnfolge von Schlüsseln im Output kann anders aussehen"
   ]
  },
  {
   "cell_type": "markdown",
   "metadata": {},
   "source": [
    "# List Comprehensions"
   ]
  },
  {
   "cell_type": "markdown",
   "metadata": {},
   "source": [
    "List Comprehensions sind Sprachkonstrukte, um Operationen mit Lists zu vereinfachen"
   ]
  },
  {
   "cell_type": "code",
   "execution_count": null,
   "metadata": {
    "collapsed": true
   },
   "outputs": [],
   "source": [
    "def getOdds(listArg):\n",
    "    rc = []\n",
    "    for n in listArg:\n",
    "        if n%2:\n",
    "            rc.append(n)\n",
    "    return rc\n",
    "            \n",
    "filterOdds(range(11))"
   ]
  },
  {
   "cell_type": "markdown",
   "metadata": {},
   "source": [
    "List Comprehensions sind sehr kompakre Konstrukte, um Lists zu bearbeiten"
   ]
  },
  {
   "cell_type": "code",
   "execution_count": null,
   "metadata": {
    "collapsed": true
   },
   "outputs": [],
   "source": [
    "[n for n in range(11)]"
   ]
  },
  {
   "cell_type": "code",
   "execution_count": null,
   "metadata": {
    "collapsed": true
   },
   "outputs": [],
   "source": [
    "[n for n in range(11) if n %2]"
   ]
  },
  {
   "cell_type": "code",
   "execution_count": null,
   "metadata": {
    "collapsed": true
   },
   "outputs": [],
   "source": [
    "[c for c in 'message']"
   ]
  },
  {
   "cell_type": "markdown",
   "metadata": {},
   "source": [
    "# Generators und Iterators"
   ]
  },
  {
   "cell_type": "code",
   "execution_count": null,
   "metadata": {
    "collapsed": true,
    "scrolled": true
   },
   "outputs": [],
   "source": [
    "def myseq(n = 1):\n",
    "    counter = 1\n",
    "    while True:\n",
    "        if counter > n: return \n",
    "        yield counter\n",
    "        counter += 1\n",
    "    \n",
    "myseq(3)"
   ]
  },
  {
   "cell_type": "code",
   "execution_count": null,
   "metadata": {
    "collapsed": true
   },
   "outputs": [],
   "source": [
    "for n in myseq(3):\n",
    "    print(n)"
   ]
  },
  {
   "cell_type": "code",
   "execution_count": null,
   "metadata": {
    "collapsed": true
   },
   "outputs": [],
   "source": [
    "list(myseq(10))"
   ]
  },
  {
   "cell_type": "code",
   "execution_count": null,
   "metadata": {
    "collapsed": true
   },
   "outputs": [],
   "source": [
    "i = myseq(3)\n",
    "print(next(i))\n",
    "print(next(i))\n",
    "print(next(i))"
   ]
  },
  {
   "cell_type": "code",
   "execution_count": null,
   "metadata": {
    "collapsed": true
   },
   "outputs": [],
   "source": [
    "def names():\n",
    "    yield('Alice')\n",
    "    yield('Bob')\n",
    "    yield('Charlie')\n",
    "    \n",
    "names()"
   ]
  },
  {
   "cell_type": "code",
   "execution_count": null,
   "metadata": {
    "collapsed": true
   },
   "outputs": [],
   "source": [
    "n = names()\n",
    "print(next(n))\n",
    "print(next(n))\n",
    "print(next(n))"
   ]
  },
  {
   "cell_type": "code",
   "execution_count": null,
   "metadata": {
    "collapsed": true
   },
   "outputs": [],
   "source": [
    "n = names()\n",
    "for n in names():\n",
    "    print (n)"
   ]
  },
  {
   "cell_type": "markdown",
   "metadata": {},
   "source": [
    "# Lambda Funktionen"
   ]
  },
  {
   "cell_type": "markdown",
   "metadata": {},
   "source": [
    "Lambda Operator erstellt namenlose \"Funktionen zum Vegwerfen\", die normalerweise nur einmal benutzt werden"
   ]
  },
  {
   "cell_type": "code",
   "execution_count": null,
   "metadata": {
    "collapsed": true
   },
   "outputs": [],
   "source": [
    "def powThree(n):\n",
    "    return n**3\n",
    "\n",
    "powTree(4)"
   ]
  },
  {
   "cell_type": "code",
   "execution_count": null,
   "metadata": {
    "collapsed": true
   },
   "outputs": [],
   "source": [
    "mq = powThree\n",
    "mq(4)"
   ]
  },
  {
   "cell_type": "code",
   "execution_count": null,
   "metadata": {
    "collapsed": true
   },
   "outputs": [],
   "source": [
    "powTree = lambda n: n**3\n",
    "\n",
    "powTree(4)"
   ]
  },
  {
   "cell_type": "markdown",
   "metadata": {},
   "source": [
    "Lambda-Funktionen können auch mehrere Argumente annehmen"
   ]
  },
  {
   "cell_type": "code",
   "execution_count": null,
   "metadata": {
    "collapsed": true
   },
   "outputs": [],
   "source": [
    "mysum = lambda x,y: x+y\n",
    "mysum(3,4)"
   ]
  },
  {
   "cell_type": "markdown",
   "metadata": {},
   "source": [
    "# map()"
   ]
  },
  {
   "cell_type": "markdown",
   "metadata": {},
   "source": [
    "map() anwendet bestimmte Funktion an jeden Mitglied von einem oder mehreren Lists.\n",
    "\n",
    "In dem Python 2 hat map() ein List zurückgegeben, in dem Python 3 wird ein Iterator zurückgegeben."
   ]
  },
  {
   "cell_type": "code",
   "execution_count": null,
   "metadata": {
    "collapsed": true
   },
   "outputs": [],
   "source": [
    "seq = [1, 2, 3, 4, 5]\n",
    "mseq = map(lambda n: n**2, seq)\n",
    "mseq"
   ]
  },
  {
   "cell_type": "markdown",
   "metadata": {},
   "source": [
    "Ausgabe aus eienm Iterator kann man zu einem List umwanteln"
   ]
  },
  {
   "cell_type": "code",
   "execution_count": null,
   "metadata": {
    "collapsed": true
   },
   "outputs": [],
   "source": [
    "list(mseq)"
   ]
  },
  {
   "cell_type": "markdown",
   "metadata": {},
   "source": [
    "map() kann mehr als ein List als Argument akzeptieren"
   ]
  },
  {
   "cell_type": "code",
   "execution_count": null,
   "metadata": {
    "collapsed": true
   },
   "outputs": [],
   "source": [
    "seq1 = seq = [1, 2, 3, 4, 5]\n",
    "seq2 = [5, 4, 3, 2, 1]\n",
    "mseq = map(lambda n,k: n+k, seq1, seq2)\n",
    "list(mseq)"
   ]
  },
  {
   "cell_type": "markdown",
   "metadata": {},
   "source": [
    "Hint: mit map() kann man also vorgefüllte Liste erstellen"
   ]
  },
  {
   "cell_type": "code",
   "execution_count": null,
   "metadata": {
    "collapsed": true
   },
   "outputs": [],
   "source": [
    "list(map(lambda _: 5, range(10)))"
   ]
  },
  {
   "cell_type": "markdown",
   "metadata": {},
   "source": [
    "# filter()"
   ]
  },
  {
   "cell_type": "markdown",
   "metadata": {},
   "source": [
    "Mit filter() kann man Inhalte von Lists (unglaublich!) filtern.\n",
    "\n",
    "In dem Python 2 hat map() ein List zurückgegeben, in dem Python 3 wird ein Iterator zurückgegeben."
   ]
  },
  {
   "cell_type": "code",
   "execution_count": null,
   "metadata": {
    "collapsed": true,
    "scrolled": true
   },
   "outputs": [],
   "source": [
    "x = [1, 2, 3, 4, 5]\n",
    "y = filter(lambda n: n%2, x)\n",
    "y"
   ]
  },
  {
   "cell_type": "code",
   "execution_count": null,
   "metadata": {
    "collapsed": true
   },
   "outputs": [],
   "source": [
    "list(y)"
   ]
  },
  {
   "cell_type": "markdown",
   "metadata": {},
   "source": [
    "### Übung: schreibe einen Filter mit der Lambda-Funktion, die aus einem String alle Wörter ausfiltert, die nicht mit dem Buchstabe 'd' anfängen.\n",
    "\n",
    "    Input: 'Quick brown fox jums over a lazy dog'\n",
    "    Output: ['dog']"
   ]
  },
  {
   "cell_type": "markdown",
   "metadata": {},
   "source": [
    "# reduce()"
   ]
  },
  {
   "cell_type": "markdown",
   "metadata": {},
   "source": [
    "reduce() wendet sequentiell die gewünschte Funktion an die Paare von dem List an, dabei ab dem dritten Element wird das Ergebnis von der vorherigen Operation angewendet.\n",
    "\n",
    "In dem Fall 1, 2, 3, 4, 5, Funktion N<sub>-1</sub> + N\n",
    "\n",
    "<code>\n",
    "1 + 2 = 3\n",
    "3 + 3 = 6\n",
    "6 + 4 = 10\n",
    "10 + 5 = 15\n",
    "</code>\n",
    "\n",
    "In dem Python 2 kann mann die Funktion direkt verwenden.\n",
    "\n",
    "In dem Python 3 befindet sich reduce() in einem separaten Modul."
   ]
  },
  {
   "cell_type": "code",
   "execution_count": null,
   "metadata": {
    "collapsed": true
   },
   "outputs": [],
   "source": [
    "from functools import reduce\n",
    "seq = [1, 2, 3, 4, 5]\n",
    "reduce(lambda n, k: n + k, seq)"
   ]
  },
  {
   "cell_type": "markdown",
   "metadata": {},
   "source": [
    "# Python Module"
   ]
  },
  {
   "cell_type": "code",
   "execution_count": null,
   "metadata": {
    "collapsed": true
   },
   "outputs": [],
   "source": [
    "import mymod\n",
    "mymod.filo()"
   ]
  },
  {
   "cell_type": "code",
   "execution_count": null,
   "metadata": {
    "collapsed": true
   },
   "outputs": [],
   "source": [
    "from mymod import filo\n",
    "filo()"
   ]
  },
  {
   "cell_type": "code",
   "execution_count": null,
   "metadata": {
    "collapsed": true
   },
   "outputs": [],
   "source": [
    "from mymod import *\n",
    "filo()\n",
    "print(fibo())"
   ]
  },
  {
   "cell_type": "code",
   "execution_count": null,
   "metadata": {
    "collapsed": true
   },
   "outputs": [],
   "source": [
    "import mymod as mm\n",
    "mm.filo()"
   ]
  },
  {
   "cell_type": "code",
   "execution_count": null,
   "metadata": {
    "scrolled": true
   },
   "outputs": [],
   "source": [
    "import mymod\n",
    "help(mymod)"
   ]
  },
  {
   "cell_type": "markdown",
   "metadata": {},
   "source": [
    "### Achtung, Gefahr! Eigene Module nach Standardmodulen nicht benennen!"
   ]
  },
  {
   "cell_type": "markdown",
   "metadata": {},
   "source": [
    "# Python Exceptions"
   ]
  },
  {
   "cell_type": "markdown",
   "metadata": {},
   "source": [
    "### Exceptions ist eine Pythonische Art, Fehler abzufangen"
   ]
  },
  {
   "cell_type": "markdown",
   "metadata": {},
   "source": [
    "try - except"
   ]
  },
  {
   "cell_type": "code",
   "execution_count": null,
   "metadata": {},
   "outputs": [],
   "source": [
    "while True:\n",
    "    try:\n",
    "        x = int(input('Bitte eine Zahl eingeben: '))\n",
    "        break\n",
    "    except ValueError:\n",
    "        print('Das ist leider keine gültige Zahl, bitte nochmals versuchen!')\n",
    "\n",
    "print ('Ihre Zahl: ' + str(x))"
   ]
  },
  {
   "cell_type": "markdown",
   "metadata": {},
   "source": [
    "Mehrere Exceptions abzufangen"
   ]
  },
  {
   "cell_type": "code",
   "execution_count": null,
   "metadata": {},
   "outputs": [],
   "source": [
    "while True:\n",
    "    try:\n",
    "        x = int(input('Bitte eine Zahl eingeben: '))\n",
    "        n = 1 / x\n",
    "        break\n",
    "    except ValueError:\n",
    "        print('Das ist leider keine gültige Zahl, bitte nochmals versuchen!')\n",
    "    except Exception as inst:\n",
    "        print ('An Exception occured: ', str(inst))\n",
    "\n",
    "\n",
    "print ('Ihre Zahl: ' + str(x))"
   ]
  },
  {
   "cell_type": "markdown",
   "metadata": {
    "collapsed": true
   },
   "source": [
    "Clean-Ups mit 'Finally'"
   ]
  },
  {
   "cell_type": "code",
   "execution_count": null,
   "metadata": {},
   "outputs": [],
   "source": [
    "try:\n",
    "    f = open('sample_utf.txt')\n",
    "except Exception as inst:\n",
    "    print ('An Error occured while trying to open file: ', str(inst))"
   ]
  },
  {
   "cell_type": "markdown",
   "metadata": {},
   "source": [
    "Ich versuche hier Daten aus einer UTF-8 kodierten Datei zu lesen; Datei bleibt dabei ungeschlossen"
   ]
  },
  {
   "cell_type": "code",
   "execution_count": null,
   "metadata": {},
   "outputs": [],
   "source": [
    "try:\n",
    "    f = open('sample_utf.txt')\n",
    "    l = f.readlines()\n",
    "except Exception as inst:\n",
    "    print ('An Error occured while trying to open file: ', str(inst))"
   ]
  },
  {
   "cell_type": "markdown",
   "metadata": {},
   "source": [
    "Eine Lösung mit \"Finally\" garantiert, dass Datei immer geschlossen wird"
   ]
  },
  {
   "cell_type": "code",
   "execution_count": null,
   "metadata": {},
   "outputs": [],
   "source": [
    "try:\n",
    "    f = open('sample_utf.txt')\n",
    "    l = f.readlines()\n",
    "except Exception as inst:\n",
    "    print ('An Error occured while trying to open file: ', str(inst))\n",
    "finally:\n",
    "    f.close()"
   ]
  },
  {
   "cell_type": "markdown",
   "metadata": {},
   "source": [
    "Noch eine Lösung: vordefinierte Clean-Ups. Hier 'with' garantiert, dass die Datei richtig geschlossen wird"
   ]
  },
  {
   "cell_type": "code",
   "execution_count": null,
   "metadata": {},
   "outputs": [],
   "source": [
    "with open ()'sample_utf.txt') as f:\n",
    "    l = f.readlines()\n",
    "    "
   ]
  }
 ],
 "metadata": {
  "kernelspec": {
   "display_name": "Python 3",
   "language": "python",
   "name": "python3"
  },
  "language_info": {
   "codemirror_mode": {
    "name": "ipython",
    "version": 3
   },
   "file_extension": ".py",
   "mimetype": "text/x-python",
   "name": "python",
   "nbconvert_exporter": "python",
   "pygments_lexer": "ipython3",
   "version": "3.6.1"
  }
 },
 "nbformat": 4,
 "nbformat_minor": 2
}
